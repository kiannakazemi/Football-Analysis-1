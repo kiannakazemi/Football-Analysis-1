{
  "nbformat": 4,
  "nbformat_minor": 0,
  "metadata": {
    "colab": {
      "name": "FootballAnalysis.ipynb",
      "provenance": [],
      "collapsed_sections": [],
      "include_colab_link": true
    },
    "kernelspec": {
      "name": "python3",
      "display_name": "Python 3"
    },
    "language_info": {
      "name": "python"
    }
  },
  "cells": [
    {
      "cell_type": "markdown",
      "metadata": {
        "id": "view-in-github",
        "colab_type": "text"
      },
      "source": [
        "<a href=\"https://colab.research.google.com/github/kiannakazemi/Football-Analysis-1/blob/main/FootballAnalysis.ipynb\" target=\"_parent\"><img src=\"https://colab.research.google.com/assets/colab-badge.svg\" alt=\"Open In Colab\"/></a>"
      ]
    },
    {
      "cell_type": "markdown",
      "source": [
        "Import necessary libraries."
      ],
      "metadata": {
        "id": "iKnBmMgcaVLi"
      }
    },
    {
      "cell_type": "code",
      "source": [
        "import numpy as np  \n",
        "import matplotlib.pyplot as plt  \n",
        "from google.colab import files\n",
        "import io \n",
        "import pandas as pd\n",
        "import copy"
      ],
      "metadata": {
        "id": "fjDaxG0_aOol"
      },
      "execution_count": null,
      "outputs": []
    },
    {
      "cell_type": "markdown",
      "source": [
        "Read csv file."
      ],
      "metadata": {
        "id": "HOMIfI87a3jK"
      }
    },
    {
      "cell_type": "code",
      "source": [
        "data = files.upload()\n",
        "df = pd.read_csv(io.StringIO(data['results.csv'].decode('utf-8')))"
      ],
      "metadata": {
        "colab": {
          "resources": {
            "http://localhost:8080/nbextensions/google.colab/files.js": {
              "data": "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",
              "ok": true,
              "headers": [
                [
                  "content-type",
                  "application/javascript"
                ]
              ],
              "status": 200,
              "status_text": ""
            }
          },
          "base_uri": "https://localhost:8080/",
          "height": 73
        },
        "id": "8UfsUljpa3zZ",
        "outputId": "a8912e12-37e4-486f-dcb3-8ff86977f314"
      },
      "execution_count": null,
      "outputs": [
        {
          "output_type": "display_data",
          "data": {
            "text/html": [
              "\n",
              "     <input type=\"file\" id=\"files-2fe00e9a-6aab-4ccd-9381-a666360f3570\" name=\"files[]\" multiple disabled\n",
              "        style=\"border:none\" />\n",
              "     <output id=\"result-2fe00e9a-6aab-4ccd-9381-a666360f3570\">\n",
              "      Upload widget is only available when the cell has been executed in the\n",
              "      current browser session. Please rerun this cell to enable.\n",
              "      </output>\n",
              "      <script src=\"/nbextensions/google.colab/files.js\"></script> "
            ],
            "text/plain": [
              "<IPython.core.display.HTML object>"
            ]
          },
          "metadata": {}
        },
        {
          "output_type": "stream",
          "name": "stdout",
          "text": [
            "Saving results.csv to results.csv\n"
          ]
        }
      ]
    },
    {
      "cell_type": "markdown",
      "metadata": {
        "id": "bkj4rG3jL9Zy"
      },
      "source": [
        "                                       \n",
        "The chosen team is \"Poland\".\n",
        "Using a for loop that runs through the dataframe that contains the games played by Poland, we can calculate the number of wins, losses and draws.\n"
      ]
    },
    {
      "cell_type": "code",
      "metadata": {
        "colab": {
          "base_uri": "https://localhost:8080/"
        },
        "id": "B9Rjp-NiMG9x",
        "outputId": "5f47b414-733e-4190-e934-048401f9f72d"
      },
      "source": [
        "df['year'] = pd.DatetimeIndex(df['date']).year\n",
        "\n",
        "S = \"Poland\"\n",
        "winN = 0\n",
        "loseN = 0\n",
        "drawN = 0\n",
        "tournament = copy.deepcopy(df[(df['tournament'] == \"FIFA World Cup\")])\n",
        "new_df = copy.deepcopy(tournament[(tournament['home_team'] == S) | (tournament['away_team'] == S)])\n",
        "\n",
        "for i, row in new_df.iterrows():\n",
        "  if row['home_team'] == S:\n",
        "    if row['home_score'] > row['away_score']:\n",
        "      winN = winN+1\n",
        "    elif row['home_score'] < row['away_score']:\n",
        "      loseN = loseN+1\n",
        "    else:\n",
        "      drawN = drawN+1\n",
        "  if row['away_team'] == S:\n",
        "    if row['home_score'] < row['away_score']:\n",
        "      winN= winN+1\n",
        "    elif row['home_score'] > row['away_score']:\n",
        "      loseN = loseN+1\n",
        "    else:\n",
        "      drawN = drawN+1\n",
        "print(S, 'won', winN, 'times.')\n",
        "print(S, 'lost', loseN, 'times.')\n",
        "print(\"The number of draws for\", S ,\"is:\",drawN)"
      ],
      "execution_count": null,
      "outputs": [
        {
          "output_type": "stream",
          "name": "stdout",
          "text": [
            "Poland won 16 times.\n",
            "Poland lost 13 times.\n",
            "The number of draws for Poland is: 5\n"
          ]
        }
      ]
    },
    {
      "cell_type": "markdown",
      "source": [
        "The 'scoreAVG' function calculates the average of the goals scored, and the 'concedeAVG' function calculates the average of the goals conceded. "
      ],
      "metadata": {
        "id": "wQqZj_tabXph"
      }
    },
    {
      "cell_type": "code",
      "source": [
        "def scoreAVG(team):\n",
        "  homeScore = tournament[tournament['home_team'] == team]\n",
        "  awayScore = tournament[tournament['away_team'] == team]\n",
        "  homeGoal = homeScore.home_score\n",
        "  awayGoal = awayScore.away_score\n",
        "  goalScored = homeGoal.append(awayGoal)\n",
        "  return goalScored.mean()\n",
        "\n",
        "average_goal_scored = scoreAVG(S)\n",
        "print(\"The average of the goals scored by\", S, \"is:\", average_goal_scored)\n",
        "\n",
        "def concedeAVG(team):\n",
        "  homeConcede = tournament[tournament['home_team'] == team]\n",
        "  awayConcede = tournament[tournament['away_team'] == team]\n",
        "  homeGoal = homeConcede.away_score\n",
        "  awayGoal = awayConcede.home_score\n",
        "  goalConceded = homeGoal.append(awayGoal)\n",
        "  return goalConceded.mean()\n",
        "  \n",
        "average_goal_conceded = concedeAVG(S)\n",
        "print(\"The average of the goals conceded by\", S, \"is:\", average_goal_conceded)"
      ],
      "metadata": {
        "colab": {
          "base_uri": "https://localhost:8080/"
        },
        "id": "kbL4I5x_bbvu",
        "outputId": "a505c5fb-99b3-4132-c9f9-8cded4078a9e"
      },
      "execution_count": null,
      "outputs": [
        {
          "output_type": "stream",
          "name": "stdout",
          "text": [
            "The average of the goals scored by Poland is: 1.3529411764705883\n",
            "The average of the goals conceded by Poland is: 1.3235294117647058\n"
          ]
        }
      ]
    },
    {
      "cell_type": "markdown",
      "metadata": {
        "id": "1E_EjJ9OBX60"
      },
      "source": [
        "To graph the progress of the games played by Poland in terms of goals scored and conceded, first I added a 'Year' column to new_df, then I created new_dff with three columns 'Scored', 'Conceded', and 'Year'.\n",
        "The 'Scored' column contains the sum of the goals scored by Poland in each year, and the 'Conceded' column contains the sum of the goals conceded in each year."
      ]
    },
    {
      "cell_type": "code",
      "metadata": {
        "id": "3KfvnF8yiups",
        "colab": {
          "base_uri": "https://localhost:8080/",
          "height": 295
        },
        "outputId": "08093e7d-2a38-4521-aedf-a96704739824"
      },
      "source": [
        "new_df['year'] = pd.DatetimeIndex(new_df['date']).year\n",
        "year = new_df['year'].value_counts().sort_index()\n",
        "unique_year = pd.unique(new_df['year'])\n",
        "new_dff = pd.DataFrame(columns=['Scored', 'Conceded', 'Year'])\n",
        "tourn = copy.deepcopy(new_df[(new_df['tournament'] == \"FIFA World Cup\")])\n",
        "\n",
        "def sum_goal_scored(t, y):\n",
        "  homeScore = tourn.loc[(tourn['home_team'] == t) & (tourn['year'] == y)]\n",
        "  awayScore = tourn.loc[(tourn['away_team'] == t) & (tourn['year'] == y)]\n",
        "  homeGoal = homeScore.home_score\n",
        "  awayGoal = awayScore.away_score\n",
        "  goalScored = homeGoal.append(awayGoal)\n",
        "  return goalScored.sum()\n",
        "\n",
        "def sum_goal_conceded(t, y):\n",
        "  homeConcede = tourn.loc[(tourn['home_team'] == t) & (tourn['year'] == y)]\n",
        "  awayConcede = tourn.loc[(tourn['away_team'] == t) & (tourn['year'] == y)]\n",
        "  homeGoal = homeConcede.away_score\n",
        "  awayGoal = awayConcede.home_score\n",
        "  goalConceded = homeGoal.append(awayGoal)\n",
        "  return goalConceded.sum()\n",
        "\n",
        "for year in unique_year:\n",
        "  goalScoredT = sum_goal_scored(S, year) \n",
        "  goalConcededT = sum_goal_conceded(S, year)\n",
        "  new_dff = new_dff.append({'Scored':goalScoredT, 'Conceded':goalConcededT, 'Year':year}, ignore_index=True)\n",
        "\n",
        "plt.title('The progress of the games played by Italy in terms of goals scored and conceded')\n",
        "plt.plot(new_dff['Year'], new_dff['Scored'], color = 'orange')\n",
        "plt.plot(new_dff['Year'], new_dff['Conceded'], color = 'purple')\n",
        "plt.xlabel('Year')\n",
        "plt.ylabel('Goal Scored and Conceded')\n",
        "plt.legend(['Goal Scored', 'Goal Conceded'], loc = 'upper left')\n",
        "plt.show()"
      ],
      "execution_count": null,
      "outputs": [
        {
          "output_type": "display_data",
          "data": {
            "image/png": "[encoded data removed]",
            "text/plain": [
              "<Figure size 432x288 with 1 Axes>"
            ]
          },
          "metadata": {
            "needs_background": "light"
          }
        }
      ]
    },
    {
      "cell_type": "markdown",
      "metadata": {
        "id": "6kGuapmPaj3b"
      },
      "source": [
        "For selecting the teams with better results than Poland, I created a new dataframe new_dfff with three columns 'Team', 'AVG Scored' and 'AVG Conceded'. The 'Team' column contains the unique concatenation of home and away teams, the 'AVG Scored' column contains the average of goals scored by each country, and the 'AVG Conceded' contains the average of goals conceded by each country. \n",
        "Then using a for loop I inserted the teams better than Poland in a list."
      ]
    },
    {
      "cell_type": "code",
      "metadata": {
        "id": "CFO3693oawH4",
        "colab": {
          "base_uri": "https://localhost:8080/"
        },
        "outputId": "2b828758-fdfe-45e6-a68b-8e5dca41a588"
      },
      "source": [
        "aux1 = pd.unique(tournament['home_team'])\n",
        "aux2 = pd.unique(tournament['away_team'])\n",
        "team =pd.unique(np.concatenate((aux1, aux2)))\n",
        "new_dfff = pd.DataFrame(columns=['Team', 'AVG Scored', 'AVG Conceded'])\n",
        "\n",
        "for country in team:\n",
        "  ags = scoreAVG(country)\n",
        "  agc = concedeAVG (country)\n",
        "  new_dfff = new_dfff.append({'Team':country, 'AVG Scored': ags, 'AVG Conceded': agc}, ignore_index=True)\n",
        "\n",
        "teams = []\n",
        "for index, row in new_dfff.iterrows():\n",
        "  if((row['AVG Scored'] > scoreAVG(S)) & (row['AVG Conceded'] < concedeAVG (S))):\n",
        "    teams.append(row['Team'])\n",
        "teams.sort()\n",
        "print (\"The teams with better results than\", S, \"are:\")\n",
        "print(*teams, sep = ', ')"
      ],
      "execution_count": null,
      "outputs": [
        {
          "output_type": "stream",
          "name": "stdout",
          "text": [
            "The teams with better results than Poland are:\n",
            "Argentina, Brazil, Croatia, Denmark, France, Germany, Italy, Netherlands, Portugal, Russia, Senegal, Spain, Uruguay, Yugoslavia\n"
          ]
        }
      ]
    },
    {
      "cell_type": "markdown",
      "metadata": {
        "id": "_EBMwXDbW9zV"
      },
      "source": [
        "To find Poland's maximum number of consecutive wins, I added the 'Streak' column, then using a for loop, I incremented the count variable by 1 whenever a consecutive win was found.\n",
        "In the end, using the max function we can find the maximum number of consecutive wins."
      ]
    },
    {
      "cell_type": "code",
      "metadata": {
        "colab": {
          "base_uri": "https://localhost:8080/"
        },
        "id": "gDyxh2XauL3r",
        "outputId": "eaef9a47-36cd-4b67-f756-209999443b97"
      },
      "source": [
        "df['Streak'] = 0\n",
        "count = 0\n",
        "for index, row in new_df.iterrows():\n",
        "    if row['home_team'] == S:\n",
        "      if row['home_score'] > row['away_score']:\n",
        "        count += 1\n",
        "        new_df.loc[index,'streak'] = count\n",
        "      else:\n",
        "        count = 0\n",
        "        new_df.loc[index,'streak'] = count\n",
        "    \n",
        "    if row['away_team'] == S:\n",
        "      if row['home_score'] < row['away_score']:\n",
        "        count += 1\n",
        "        new_df.loc[index,'streak'] = count\n",
        "      else:\n",
        "        count = 0\n",
        "        new_df.loc[index,'streak'] = count\n",
        "\n",
        "consecutive_wins = int(new_df.streak.max())\n",
        "print(\"The maximum number of consecutive wins of\", S, \"is:\", consecutive_wins)"
      ],
      "execution_count": null,
      "outputs": [
        {
          "output_type": "stream",
          "name": "stdout",
          "text": [
            "The maximum number of consecutive wins of Poland is: 5\n"
          ]
        }
      ]
    }
  ]
}